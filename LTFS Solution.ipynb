{
 "cells": [
  {
   "cell_type": "markdown",
   "metadata": {
    "colab_type": "text",
    "id": "1apMTTr_lwOv"
   },
   "source": [
    "## Import"
   ]
  },
  {
   "cell_type": "code",
   "execution_count": 1,
   "metadata": {
    "colab": {
     "base_uri": "https://localhost:8080/",
     "height": 51
    },
    "colab_type": "code",
    "id": "5aWmjd9Ydva7",
    "outputId": "a84a9213-7ac7-4fa7-f0ab-1176a4e5d37b"
   },
   "outputs": [
    {
     "name": "stdout",
     "output_type": "stream",
     "text": [
      "\u001b[?25l\r",
      "\u001b[K    1% |▎                               | 10kB 17.4MB/s eta 0:00:01\r",
      "\u001b[K    2% |▋                               | 20kB 3.4MB/s eta 0:00:01\r",
      "\u001b[K    3% |█                               | 30kB 4.9MB/s eta 0:00:01\r",
      "\u001b[K    4% |█▎                              | 40kB 3.1MB/s eta 0:00:01\r",
      "\u001b[K    5% |█▋                              | 51kB 3.8MB/s eta 0:00:01\r",
      "\u001b[K    6% |██                              | 61kB 4.5MB/s eta 0:00:01\r",
      "\u001b[K    7% |██▎                             | 71kB 4.9MB/s eta 0:00:01\r",
      "\u001b[K    8% |██▋                             | 81kB 5.5MB/s eta 0:00:01\r",
      "\u001b[K    9% |███                             | 92kB 6.1MB/s eta 0:00:01\r",
      "\u001b[K    10% |███▎                            | 102kB 5.0MB/s eta 0:00:01\r",
      "\u001b[K    11% |███▋                            | 112kB 5.0MB/s eta 0:00:01\r",
      "\u001b[K    12% |████                            | 122kB 6.8MB/s eta 0:00:01\r",
      "\u001b[K    13% |████▎                           | 133kB 6.8MB/s eta 0:00:01\r",
      "\u001b[K    14% |████▋                           | 143kB 12.3MB/s eta 0:00:01\r",
      "\u001b[K    15% |█████                           | 153kB 12.3MB/s eta 0:00:01\r",
      "\u001b[K    16% |█████▎                          | 163kB 12.3MB/s eta 0:00:01\r",
      "\u001b[K    17% |█████▋                          | 174kB 13.4MB/s eta 0:00:01\r",
      "\u001b[K    18% |██████                          | 184kB 13.6MB/s eta 0:00:01\r",
      "\u001b[K    19% |██████▎                         | 194kB 13.7MB/s eta 0:00:01\r",
      "\u001b[K    20% |██████▋                         | 204kB 40.4MB/s eta 0:00:01\r",
      "\u001b[K    21% |███████                         | 215kB 14.5MB/s eta 0:00:01\r",
      "\u001b[K    22% |███████▎                        | 225kB 14.5MB/s eta 0:00:01\r",
      "\u001b[K    23% |███████▋                        | 235kB 14.7MB/s eta 0:00:01\r",
      "\u001b[K    24% |████████                        | 245kB 14.7MB/s eta 0:00:01\r",
      "\u001b[K    25% |████████▎                       | 256kB 14.8MB/s eta 0:00:01\r",
      "\u001b[K    26% |████████▋                       | 266kB 14.1MB/s eta 0:00:01\r",
      "\u001b[K    27% |█████████                       | 276kB 14.3MB/s eta 0:00:01\r",
      "\u001b[K    29% |█████████▎                      | 286kB 14.4MB/s eta 0:00:01\r",
      "\u001b[K    30% |█████████▋                      | 296kB 14.3MB/s eta 0:00:01\r",
      "\u001b[K    31% |██████████                      | 307kB 15.1MB/s eta 0:00:01\r",
      "\u001b[K    32% |██████████▎                     | 317kB 48.7MB/s eta 0:00:01\r",
      "\u001b[K    33% |██████████▋                     | 327kB 49.8MB/s eta 0:00:01\r",
      "\u001b[K    34% |███████████                     | 337kB 53.6MB/s eta 0:00:01\r",
      "\u001b[K    35% |███████████▎                    | 348kB 47.6MB/s eta 0:00:01\r",
      "\u001b[K    36% |███████████▋                    | 358kB 47.9MB/s eta 0:00:01\r",
      "\u001b[K    37% |████████████                    | 368kB 58.8MB/s eta 0:00:01\r",
      "\u001b[K    38% |████████████▎                   | 378kB 58.7MB/s eta 0:00:01\r",
      "\u001b[K    39% |████████████▋                   | 389kB 60.6MB/s eta 0:00:01\r",
      "\u001b[K    40% |█████████████                   | 399kB 60.6MB/s eta 0:00:01\r",
      "\u001b[K    41% |█████████████▎                  | 409kB 59.7MB/s eta 0:00:01\r",
      "\u001b[K    42% |█████████████▋                  | 419kB 59.8MB/s eta 0:00:01\r",
      "\u001b[K    43% |██████████████                  | 430kB 60.9MB/s eta 0:00:01\r",
      "\u001b[K    44% |██████████████▎                 | 440kB 60.8MB/s eta 0:00:01\r",
      "\u001b[K    45% |██████████████▋                 | 450kB 21.6MB/s eta 0:00:01\r",
      "\u001b[K    46% |███████████████                 | 460kB 21.0MB/s eta 0:00:01\r",
      "\u001b[K    47% |███████████████▎                | 471kB 20.9MB/s eta 0:00:01\r",
      "\u001b[K    48% |███████████████▋                | 481kB 20.6MB/s eta 0:00:01\r",
      "\u001b[K    49% |████████████████                | 491kB 20.4MB/s eta 0:00:01\r",
      "\u001b[K    50% |████████████████▎               | 501kB 20.5MB/s eta 0:00:01\r",
      "\u001b[K    51% |████████████████▋               | 512kB 19.7MB/s eta 0:00:01\r",
      "\u001b[K    52% |█████████████████               | 522kB 19.4MB/s eta 0:00:01\r",
      "\u001b[K    53% |█████████████████▎              | 532kB 19.2MB/s eta 0:00:01\r",
      "\u001b[K    54% |█████████████████▋              | 542kB 19.1MB/s eta 0:00:01\r",
      "\u001b[K    55% |██████████████████              | 552kB 50.9MB/s eta 0:00:01\r",
      "\u001b[K    57% |██████████████████▎             | 563kB 53.8MB/s eta 0:00:01\r",
      "\u001b[K    58% |██████████████████▋             | 573kB 53.4MB/s eta 0:00:01\r",
      "\u001b[K    59% |███████████████████             | 583kB 55.7MB/s eta 0:00:01\r",
      "\u001b[K    60% |███████████████████▎            | 593kB 54.8MB/s eta 0:00:01\r",
      "\u001b[K    61% |███████████████████▋            | 604kB 53.9MB/s eta 0:00:01\r",
      "\u001b[K    62% |████████████████████            | 614kB 59.5MB/s eta 0:00:01\r",
      "\u001b[K    63% |████████████████████▎           | 624kB 61.0MB/s eta 0:00:01\r",
      "\u001b[K    64% |████████████████████▋           | 634kB 62.0MB/s eta 0:00:01\r",
      "\u001b[K    65% |█████████████████████           | 645kB 61.5MB/s eta 0:00:01\r",
      "\u001b[K    66% |█████████████████████▎          | 655kB 59.6MB/s eta 0:00:01\r",
      "\u001b[K    67% |█████████████████████▋          | 665kB 43.6MB/s eta 0:00:01\r",
      "\u001b[K    68% |██████████████████████          | 675kB 43.2MB/s eta 0:00:01\r",
      "\u001b[K    69% |██████████████████████▎         | 686kB 43.6MB/s eta 0:00:01\r",
      "\u001b[K    70% |██████████████████████▋         | 696kB 44.7MB/s eta 0:00:01\r",
      "\u001b[K    71% |███████████████████████         | 706kB 44.9MB/s eta 0:00:01\r",
      "\u001b[K    72% |███████████████████████▎        | 716kB 45.2MB/s eta 0:00:01\r",
      "\u001b[K    73% |███████████████████████▋        | 727kB 45.4MB/s eta 0:00:01\r",
      "\u001b[K    74% |████████████████████████        | 737kB 45.2MB/s eta 0:00:01\r",
      "\u001b[K    75% |████████████████████████▎       | 747kB 45.8MB/s eta 0:00:01\r",
      "\u001b[K    76% |████████████████████████▋       | 757kB 46.6MB/s eta 0:00:01\r",
      "\u001b[K    77% |████████████████████████▉       | 768kB 66.0MB/s eta 0:00:01\r",
      "\u001b[K    78% |█████████████████████████▏      | 778kB 39.2MB/s eta 0:00:01\r",
      "\u001b[K    79% |█████████████████████████▌      | 788kB 37.3MB/s eta 0:00:01\r",
      "\u001b[K    80% |█████████████████████████▉      | 798kB 36.5MB/s eta 0:00:01\r",
      "\u001b[K    81% |██████████████████████████▏     | 808kB 36.0MB/s eta 0:00:01\r",
      "\u001b[K    82% |██████████████████████████▌     | 819kB 35.9MB/s eta 0:00:01\r",
      "\u001b[K    83% |██████████████████████████▉     | 829kB 36.0MB/s eta 0:00:01\r",
      "\u001b[K    85% |███████████████████████████▏    | 839kB 36.2MB/s eta 0:00:01\r",
      "\u001b[K    86% |███████████████████████████▌    | 849kB 35.6MB/s eta 0:00:01\r",
      "\u001b[K    87% |███████████████████████████▉    | 860kB 32.8MB/s eta 0:00:01\r",
      "\u001b[K    88% |████████████████████████████▏   | 870kB 32.4MB/s eta 0:00:01\r",
      "\u001b[K    89% |████████████████████████████▌   | 880kB 50.0MB/s eta 0:00:01\r",
      "\u001b[K    90% |████████████████████████████▉   | 890kB 53.3MB/s eta 0:00:01\r",
      "\u001b[K    91% |█████████████████████████████▏  | 901kB 53.6MB/s eta 0:00:01\r",
      "\u001b[K    92% |█████████████████████████████▌  | 911kB 52.6MB/s eta 0:00:01\r",
      "\u001b[K    93% |█████████████████████████████▉  | 921kB 52.6MB/s eta 0:00:01\r",
      "\u001b[K    94% |██████████████████████████████▏ | 931kB 52.4MB/s eta 0:00:01\r",
      "\u001b[K    95% |██████████████████████████████▌ | 942kB 52.4MB/s eta 0:00:01\r",
      "\u001b[K    96% |██████████████████████████████▉ | 952kB 52.2MB/s eta 0:00:01\r",
      "\u001b[K    97% |███████████████████████████████▏| 962kB 59.6MB/s eta 0:00:01\r",
      "\u001b[K    98% |███████████████████████████████▌| 972kB 59.9MB/s eta 0:00:01\r",
      "\u001b[K    99% |███████████████████████████████▉| 983kB 59.3MB/s eta 0:00:01\r",
      "\u001b[K    100% |████████████████████████████████| 993kB 18.9MB/s \n",
      "\u001b[?25h  Building wheel for PyDrive (setup.py) ... \u001b[?25ldone\n",
      "\u001b[?25h"
     ]
    }
   ],
   "source": [
    "# Code to read csv file into Colaboratory:\n",
    "!pip install -U -q PyDrive\n",
    "from pydrive.auth import GoogleAuth\n",
    "from pydrive.drive import GoogleDrive\n",
    "from google.colab import auth\n",
    "from oauth2client.client import GoogleCredentials\n",
    "import pandas as pd\n",
    "\n",
    "# Authenticate and create the PyDrive client.\n",
    "auth.authenticate_user()\n",
    "gauth = GoogleAuth()\n",
    "gauth.credentials = GoogleCredentials.get_application_default()\n",
    "drive = GoogleDrive(gauth)"
   ]
  },
  {
   "cell_type": "code",
   "execution_count": 0,
   "metadata": {
    "colab": {},
    "colab_type": "code",
    "id": "QXA1d1W1d3z0"
   },
   "outputs": [],
   "source": [
    "import numpy as np\n",
    "import matplotlib.pyplot as plt\n",
    "%matplotlib inline\n",
    "import math\n",
    "\n",
    "import seaborn as sns\n",
    "sns.set(font_scale = 2)\n",
    "\n",
    "from sklearn.model_selection import train_test_split\n",
    "\n",
    "from IPython.core.display import HTML\n",
    "\n",
    "import matplotlib.dates as mdates\n",
    "\n",
    "import os\n",
    "\n",
    "from sklearn import preprocessing,metrics \n",
    "import warnings\n",
    "warnings.filterwarnings('ignore')\n",
    "\n",
    "from sklearn.metrics import accuracy_score, f1_score, confusion_matrix, average_precision_score, precision_recall_curve\n",
    "\n",
    "from sklearn import linear_model,svm\n",
    "\n",
    "from sklearn.preprocessing import MinMaxScaler\n",
    "\n",
    "from xgboost import XGBClassifier\n",
    "import seaborn as sns\n",
    "import itertools\n",
    "from sklearn.metrics import confusion_matrix\n",
    "\n",
    "from sklearn.model_selection import cross_val_score"
   ]
  },
  {
   "cell_type": "code",
   "execution_count": 123,
   "metadata": {
    "colab": {
     "base_uri": "https://localhost:8080/",
     "height": 51
    },
    "colab_type": "code",
    "id": "QlUgpEHNd6xQ",
    "outputId": "e334d737-629d-4700-a8f7-30faec5b724e"
   },
   "outputs": [
    {
     "name": "stdout",
     "output_type": "stream",
     "text": [
      "(233154, 41)\n",
      "(112392, 40)\n"
     ]
    }
   ],
   "source": [
    "train = pd.read_csv('train.csv')\n",
    "test = pd.read_csv('test.csv')\n",
    "print(train.shape)\n",
    "print(test.shape)"
   ]
  },
  {
   "cell_type": "code",
   "execution_count": 124,
   "metadata": {
    "colab": {
     "base_uri": "https://localhost:8080/",
     "height": 253
    },
    "colab_type": "code",
    "id": "XmHr1su4d9GB",
    "outputId": "cf54a152-7867-4a1b-b7e1-d42e70695705"
   },
   "outputs": [
    {
     "data": {
      "text/html": [
       "<div>\n",
       "<style scoped>\n",
       "    .dataframe tbody tr th:only-of-type {\n",
       "        vertical-align: middle;\n",
       "    }\n",
       "\n",
       "    .dataframe tbody tr th {\n",
       "        vertical-align: top;\n",
       "    }\n",
       "\n",
       "    .dataframe thead th {\n",
       "        text-align: right;\n",
       "    }\n",
       "</style>\n",
       "<table border=\"1\" class=\"dataframe\">\n",
       "  <thead>\n",
       "    <tr style=\"text-align: right;\">\n",
       "      <th></th>\n",
       "      <th>AVERAGE.ACCT.AGE</th>\n",
       "      <th>Aadhar_flag</th>\n",
       "      <th>CREDIT.HISTORY.LENGTH</th>\n",
       "      <th>Current_pincode_ID</th>\n",
       "      <th>DELINQUENT.ACCTS.IN.LAST.SIX.MONTHS</th>\n",
       "      <th>Date.of.Birth</th>\n",
       "      <th>DisbursalDate</th>\n",
       "      <th>Driving_flag</th>\n",
       "      <th>Employee_code_ID</th>\n",
       "      <th>Employment.Type</th>\n",
       "      <th>...</th>\n",
       "      <th>State_ID</th>\n",
       "      <th>UniqueID</th>\n",
       "      <th>VoterID_flag</th>\n",
       "      <th>asset_cost</th>\n",
       "      <th>branch_id</th>\n",
       "      <th>disbursed_amount</th>\n",
       "      <th>loan_default</th>\n",
       "      <th>ltv</th>\n",
       "      <th>manufacturer_id</th>\n",
       "      <th>supplier_id</th>\n",
       "    </tr>\n",
       "  </thead>\n",
       "  <tbody>\n",
       "    <tr>\n",
       "      <th>345541</th>\n",
       "      <td>0yrs 0mon</td>\n",
       "      <td>1</td>\n",
       "      <td>0yrs 0mon</td>\n",
       "      <td>2591</td>\n",
       "      <td>0</td>\n",
       "      <td>14-05-92</td>\n",
       "      <td>28-11-18</td>\n",
       "      <td>0</td>\n",
       "      <td>3823</td>\n",
       "      <td>Self employed</td>\n",
       "      <td>...</td>\n",
       "      <td>4</td>\n",
       "      <td>755547</td>\n",
       "      <td>0</td>\n",
       "      <td>72509</td>\n",
       "      <td>74</td>\n",
       "      <td>44875</td>\n",
       "      <td>NaN</td>\n",
       "      <td>67.58</td>\n",
       "      <td>86</td>\n",
       "      <td>16646</td>\n",
       "    </tr>\n",
       "    <tr>\n",
       "      <th>345542</th>\n",
       "      <td>0yrs 0mon</td>\n",
       "      <td>1</td>\n",
       "      <td>0yrs 0mon</td>\n",
       "      <td>2593</td>\n",
       "      <td>0</td>\n",
       "      <td>24-04-84</td>\n",
       "      <td>19-11-18</td>\n",
       "      <td>0</td>\n",
       "      <td>3823</td>\n",
       "      <td>Self employed</td>\n",
       "      <td>...</td>\n",
       "      <td>4</td>\n",
       "      <td>716994</td>\n",
       "      <td>0</td>\n",
       "      <td>72509</td>\n",
       "      <td>74</td>\n",
       "      <td>53549</td>\n",
       "      <td>NaN</td>\n",
       "      <td>78.61</td>\n",
       "      <td>86</td>\n",
       "      <td>16646</td>\n",
       "    </tr>\n",
       "    <tr>\n",
       "      <th>345543</th>\n",
       "      <td>4yrs 10mon</td>\n",
       "      <td>1</td>\n",
       "      <td>9yrs 5mon</td>\n",
       "      <td>2593</td>\n",
       "      <td>0</td>\n",
       "      <td>01-01-86</td>\n",
       "      <td>17-11-18</td>\n",
       "      <td>0</td>\n",
       "      <td>3823</td>\n",
       "      <td>Self employed</td>\n",
       "      <td>...</td>\n",
       "      <td>4</td>\n",
       "      <td>709352</td>\n",
       "      <td>0</td>\n",
       "      <td>72509</td>\n",
       "      <td>74</td>\n",
       "      <td>55243</td>\n",
       "      <td>NaN</td>\n",
       "      <td>81.37</td>\n",
       "      <td>86</td>\n",
       "      <td>16646</td>\n",
       "    </tr>\n",
       "    <tr>\n",
       "      <th>345544</th>\n",
       "      <td>0yrs 3mon</td>\n",
       "      <td>1</td>\n",
       "      <td>0yrs 3mon</td>\n",
       "      <td>2593</td>\n",
       "      <td>1</td>\n",
       "      <td>01-01-73</td>\n",
       "      <td>15-11-18</td>\n",
       "      <td>0</td>\n",
       "      <td>3823</td>\n",
       "      <td>Self employed</td>\n",
       "      <td>...</td>\n",
       "      <td>4</td>\n",
       "      <td>699795</td>\n",
       "      <td>0</td>\n",
       "      <td>72509</td>\n",
       "      <td>74</td>\n",
       "      <td>55243</td>\n",
       "      <td>NaN</td>\n",
       "      <td>81.37</td>\n",
       "      <td>86</td>\n",
       "      <td>16646</td>\n",
       "    </tr>\n",
       "    <tr>\n",
       "      <th>345545</th>\n",
       "      <td>0yrs 0mon</td>\n",
       "      <td>1</td>\n",
       "      <td>0yrs 0mon</td>\n",
       "      <td>2593</td>\n",
       "      <td>0</td>\n",
       "      <td>01-01-74</td>\n",
       "      <td>28-11-18</td>\n",
       "      <td>0</td>\n",
       "      <td>3823</td>\n",
       "      <td>Self employed</td>\n",
       "      <td>...</td>\n",
       "      <td>4</td>\n",
       "      <td>755244</td>\n",
       "      <td>0</td>\n",
       "      <td>72509</td>\n",
       "      <td>74</td>\n",
       "      <td>40274</td>\n",
       "      <td>NaN</td>\n",
       "      <td>60.68</td>\n",
       "      <td>86</td>\n",
       "      <td>16646</td>\n",
       "    </tr>\n",
       "  </tbody>\n",
       "</table>\n",
       "<p>5 rows × 41 columns</p>\n",
       "</div>"
      ],
      "text/plain": [
       "       AVERAGE.ACCT.AGE  Aadhar_flag CREDIT.HISTORY.LENGTH  \\\n",
       "345541        0yrs 0mon            1             0yrs 0mon   \n",
       "345542        0yrs 0mon            1             0yrs 0mon   \n",
       "345543       4yrs 10mon            1             9yrs 5mon   \n",
       "345544        0yrs 3mon            1             0yrs 3mon   \n",
       "345545        0yrs 0mon            1             0yrs 0mon   \n",
       "\n",
       "        Current_pincode_ID  DELINQUENT.ACCTS.IN.LAST.SIX.MONTHS Date.of.Birth  \\\n",
       "345541                2591                                    0      14-05-92   \n",
       "345542                2593                                    0      24-04-84   \n",
       "345543                2593                                    0      01-01-86   \n",
       "345544                2593                                    1      01-01-73   \n",
       "345545                2593                                    0      01-01-74   \n",
       "\n",
       "       DisbursalDate  Driving_flag  Employee_code_ID Employment.Type  ...  \\\n",
       "345541      28-11-18             0              3823   Self employed  ...   \n",
       "345542      19-11-18             0              3823   Self employed  ...   \n",
       "345543      17-11-18             0              3823   Self employed  ...   \n",
       "345544      15-11-18             0              3823   Self employed  ...   \n",
       "345545      28-11-18             0              3823   Self employed  ...   \n",
       "\n",
       "        State_ID  UniqueID  VoterID_flag  asset_cost  branch_id  \\\n",
       "345541         4    755547             0       72509         74   \n",
       "345542         4    716994             0       72509         74   \n",
       "345543         4    709352             0       72509         74   \n",
       "345544         4    699795             0       72509         74   \n",
       "345545         4    755244             0       72509         74   \n",
       "\n",
       "       disbursed_amount  loan_default    ltv  manufacturer_id  supplier_id  \n",
       "345541            44875           NaN  67.58               86        16646  \n",
       "345542            53549           NaN  78.61               86        16646  \n",
       "345543            55243           NaN  81.37               86        16646  \n",
       "345544            55243           NaN  81.37               86        16646  \n",
       "345545            40274           NaN  60.68               86        16646  \n",
       "\n",
       "[5 rows x 41 columns]"
      ]
     },
     "execution_count": 124,
     "metadata": {
      "tags": []
     },
     "output_type": "execute_result"
    }
   ],
   "source": [
    "df = train.append(test,ignore_index=True)\n",
    "df.tail()"
   ]
  },
  {
   "cell_type": "markdown",
   "metadata": {
    "colab_type": "text",
    "id": "awQiEuJnl9bf"
   },
   "source": [
    "## Data Cleaning"
   ]
  },
  {
   "cell_type": "code",
   "execution_count": 125,
   "metadata": {
    "colab": {
     "base_uri": "https://localhost:8080/",
     "height": 51
    },
    "colab_type": "code",
    "id": "OEiB4vwweVDC",
    "outputId": "35b49ea5-4fc0-46fb-80a6-c19b99067197"
   },
   "outputs": [
    {
     "name": "stdout",
     "output_type": "stream",
     "text": [
      "(345546, 41)\n",
      "(345546, 39)\n"
     ]
    }
   ],
   "source": [
    "print(df.shape)\n",
    "  \n",
    "df['DisbursalDate'] =  pd.to_datetime(df['DisbursalDate'], format='%d-%m-%y').dt.day\n",
    "\n",
    "newdata =  pd.to_datetime(df['Date.of.Birth'], format='%d-%m-%y')\n",
    "current_year = 2018\n",
    "newdata.loc[newdata.dt.year.ge(current_year + 1)] -= pd.DateOffset(years=100)\n",
    "df['Date.of.Birth'] = newdata\n",
    "df['Date.of.Birth'] = df['Date.of.Birth'].where(df['Date.of.Birth'] < pd.Timestamp('now'), df['Date.of.Birth'] -  np.timedelta64(100, 'Y'))\n",
    "df['Date.of.Birth'] = (pd.Timestamp('now') - df['Date.of.Birth']).astype('<m8[Y]')  \n",
    "\n",
    "df['AVERAGE.ACCT.AGE'] = pd.to_numeric(df['AVERAGE.ACCT.AGE'].str.replace(r'(\\d+).*(\\d+).*', lambda x: '{}.{:0>2}'.format(x[1], x[2])), errors='coerce')\n",
    "df['AVERAGE.ACCT.AGE'] = df['AVERAGE.ACCT.AGE'].apply(lambda x: (math.modf(x)[0]*6)+math.modf(x)[1])\n",
    "df['CREDIT.HISTORY.LENGTH'] = pd.to_numeric(df['CREDIT.HISTORY.LENGTH'].str.replace(r'(\\d+).*(\\d+).*', lambda x: '{}.{:0>2}'.format(x[1], x[2])), errors='coerce')\n",
    "df['CREDIT.HISTORY.LENGTH'] = df['CREDIT.HISTORY.LENGTH'].apply(lambda x: (math.modf(x)[0]*6)+math.modf(x)[1])\n",
    "\n",
    "df['PERFORM_CNS.SCORE'] = df['PERFORM_CNS.SCORE'].replace(0, int(df['PERFORM_CNS.SCORE'].mean()))\n",
    "df['PERFORM_CNS.SCORE.DESCRIPTION'] = df['PERFORM_CNS.SCORE.DESCRIPTION'].map({'No Bureau History Available':6,  \n",
    "    'I-Medium Risk':9,  'L-Very High Risk':12, \n",
    "'A-Very Low Risk':1, \n",
    "    'Not Scored: Not Enough Info available on the customer':6, \n",
    "'D-Very Low Risk':4,  'M-Very High Risk':13,  'B-Very Low Risk':2,  'C-Very Low Risk':3, \n",
    "'E-Low Risk':5,  'H-Medium Risk':8,  'F-Low Risk':6,  'K-High Risk':11, \n",
    "'Not Scored: No Activity seen on the customer (Inactive)':6, \n",
    "'Not Scored: Sufficient History Not Available':6, \n",
    "'Not Scored: No Updates available in last 36 months':6,  'G-Low Risk':7, \n",
    "'J-High Risk':10,  'Not Scored: Only a Guarantor':6, \n",
    "'Not Scored: More than 50 active Accounts found':10 })\n",
    "#\n",
    "df['Employment.Type'].fillna(1, inplace=True)\n",
    "df['Employment.Type'] = df['Employment.Type'].map({'Salaried':2, 'Self employed':0})\n",
    "#droplist = ['PERFORM_CNS.SCORE.DESCRIPTION', 'DisbursalDate','Date.of.Birth','AVERAGE.ACCT.AGE','CREDIT.HISTORY.LENGTH','UniqueID']\n",
    "droplist = ['UniqueID','MobileNo_Avl_Flag']\n",
    "df = df.drop(droplist,axis=1)\n",
    "\n",
    "print(df.shape)\n",
    "#print(df.info())"
   ]
  },
  {
   "cell_type": "markdown",
   "metadata": {
    "colab_type": "text",
    "id": "NpoHpytymGGq"
   },
   "source": [
    "## Data Preprocessing"
   ]
  },
  {
   "cell_type": "code",
   "execution_count": 0,
   "metadata": {
    "colab": {},
    "colab_type": "code",
    "id": "-MRMjqnNgKjE"
   },
   "outputs": [],
   "source": [
    "ss = preprocessing.StandardScaler()\n",
    "fields = df.columns.values[:-1]\n",
    "dfs = pd.DataFrame(ss.fit_transform(df[fields]), columns = fields)\n",
    "dfs['loan_default'] = df['loan_default']"
   ]
  },
  {
   "cell_type": "markdown",
   "metadata": {
    "colab_type": "text",
    "id": "xwaZ18SKmLv4"
   },
   "source": [
    "## Data Sampling"
   ]
  },
  {
   "cell_type": "code",
   "execution_count": 127,
   "metadata": {
    "colab": {
     "base_uri": "https://localhost:8080/",
     "height": 34
    },
    "colab_type": "code",
    "id": "tJ7oTKFIg6lq",
    "outputId": "58f1aec3-6a72-44ca-8413-c8d337899ff5"
   },
   "outputs": [
    {
     "data": {
      "text/plain": [
       "(112392, 38)"
      ]
     },
     "execution_count": 127,
     "metadata": {
      "tags": []
     },
     "output_type": "execute_result"
    }
   ],
   "source": [
    "dftrain = dfs[dfs['loan_default'].isnull() != True]\n",
    "dftest = dfs[dfs['loan_default'].isnull() == True]\n",
    "dftest.shape"
   ]
  },
  {
   "cell_type": "code",
   "execution_count": 128,
   "metadata": {
    "colab": {
     "base_uri": "https://localhost:8080/",
     "height": 270
    },
    "colab_type": "code",
    "id": "wPaXkQRUgPDL",
    "outputId": "423d3b69-3ed6-42a7-d28a-0090c40b2e7b"
   },
   "outputs": [
    {
     "name": "stdout",
     "output_type": "stream",
     "text": [
      "Current shape of dataset : (233154, 38)\n"
     ]
    },
    {
     "data": {
      "text/html": [
       "<div>\n",
       "<style scoped>\n",
       "    .dataframe tbody tr th:only-of-type {\n",
       "        vertical-align: middle;\n",
       "    }\n",
       "\n",
       "    .dataframe tbody tr th {\n",
       "        vertical-align: top;\n",
       "    }\n",
       "\n",
       "    .dataframe thead th {\n",
       "        text-align: right;\n",
       "    }\n",
       "</style>\n",
       "<table border=\"1\" class=\"dataframe\">\n",
       "  <thead>\n",
       "    <tr style=\"text-align: right;\">\n",
       "      <th></th>\n",
       "      <th>AVERAGE.ACCT.AGE</th>\n",
       "      <th>Aadhar_flag</th>\n",
       "      <th>CREDIT.HISTORY.LENGTH</th>\n",
       "      <th>Current_pincode_ID</th>\n",
       "      <th>DELINQUENT.ACCTS.IN.LAST.SIX.MONTHS</th>\n",
       "      <th>Date.of.Birth</th>\n",
       "      <th>DisbursalDate</th>\n",
       "      <th>Driving_flag</th>\n",
       "      <th>Employee_code_ID</th>\n",
       "      <th>Employment.Type</th>\n",
       "      <th>...</th>\n",
       "      <th>SEC.OVERDUE.ACCTS</th>\n",
       "      <th>SEC.SANCTIONED.AMOUNT</th>\n",
       "      <th>State_ID</th>\n",
       "      <th>VoterID_flag</th>\n",
       "      <th>asset_cost</th>\n",
       "      <th>branch_id</th>\n",
       "      <th>disbursed_amount</th>\n",
       "      <th>loan_default</th>\n",
       "      <th>ltv</th>\n",
       "      <th>manufacturer_id</th>\n",
       "    </tr>\n",
       "  </thead>\n",
       "  <tbody>\n",
       "    <tr>\n",
       "      <th>0</th>\n",
       "      <td>1.970436</td>\n",
       "      <td>0.420328</td>\n",
       "      <td>3.134839</td>\n",
       "      <td>-0.876303</td>\n",
       "      <td>-0.249379</td>\n",
       "      <td>1.658623</td>\n",
       "      <td>-1.310129</td>\n",
       "      <td>-0.146877</td>\n",
       "      <td>-0.201816</td>\n",
       "      <td>-0.885645</td>\n",
       "      <td>...</td>\n",
       "      <td>-0.058918</td>\n",
       "      <td>-0.032393</td>\n",
       "      <td>-0.274244</td>\n",
       "      <td>-0.398682</td>\n",
       "      <td>-0.164785</td>\n",
       "      <td>-0.197040</td>\n",
       "      <td>0.123151</td>\n",
       "      <td>0.0</td>\n",
       "      <td>0.380028</td>\n",
       "      <td>0.776226</td>\n",
       "    </tr>\n",
       "    <tr>\n",
       "      <th>1</th>\n",
       "      <td>2.070387</td>\n",
       "      <td>0.420328</td>\n",
       "      <td>0.797054</td>\n",
       "      <td>1.349553</td>\n",
       "      <td>-0.249379</td>\n",
       "      <td>0.644384</td>\n",
       "      <td>0.852989</td>\n",
       "      <td>-0.146877</td>\n",
       "      <td>-0.195959</td>\n",
       "      <td>-0.885645</td>\n",
       "      <td>...</td>\n",
       "      <td>-0.058918</td>\n",
       "      <td>-0.032393</td>\n",
       "      <td>-0.494146</td>\n",
       "      <td>-0.398682</td>\n",
       "      <td>-0.903633</td>\n",
       "      <td>-0.381630</td>\n",
       "      <td>-1.492984</td>\n",
       "      <td>1.0</td>\n",
       "      <td>-1.262895</td>\n",
       "      <td>-1.075450</td>\n",
       "    </tr>\n",
       "    <tr>\n",
       "      <th>2</th>\n",
       "      <td>-0.528339</td>\n",
       "      <td>0.420328</td>\n",
       "      <td>-0.537577</td>\n",
       "      <td>0.626495</td>\n",
       "      <td>-0.249379</td>\n",
       "      <td>-1.079823</td>\n",
       "      <td>-0.419434</td>\n",
       "      <td>-0.146877</td>\n",
       "      <td>-0.771901</td>\n",
       "      <td>1.129121</td>\n",
       "      <td>...</td>\n",
       "      <td>-0.058918</td>\n",
       "      <td>-0.032393</td>\n",
       "      <td>0.165559</td>\n",
       "      <td>-0.398682</td>\n",
       "      <td>0.214219</td>\n",
       "      <td>-0.878605</td>\n",
       "      <td>0.179567</td>\n",
       "      <td>0.0</td>\n",
       "      <td>-0.184699</td>\n",
       "      <td>2.311763</td>\n",
       "    </tr>\n",
       "    <tr>\n",
       "      <th>3</th>\n",
       "      <td>-0.528339</td>\n",
       "      <td>0.420328</td>\n",
       "      <td>-0.537577</td>\n",
       "      <td>-0.115754</td>\n",
       "      <td>-0.249379</td>\n",
       "      <td>-0.471279</td>\n",
       "      <td>1.489200</td>\n",
       "      <td>-0.146877</td>\n",
       "      <td>0.077370</td>\n",
       "      <td>NaN</td>\n",
       "      <td>...</td>\n",
       "      <td>-0.058918</td>\n",
       "      <td>-0.032393</td>\n",
       "      <td>1.484969</td>\n",
       "      <td>-0.398682</td>\n",
       "      <td>0.605977</td>\n",
       "      <td>-0.836007</td>\n",
       "      <td>0.977517</td>\n",
       "      <td>1.0</td>\n",
       "      <td>0.334956</td>\n",
       "      <td>0.776226</td>\n",
       "    </tr>\n",
       "    <tr>\n",
       "      <th>4</th>\n",
       "      <td>0.504488</td>\n",
       "      <td>0.420328</td>\n",
       "      <td>0.517916</td>\n",
       "      <td>0.202034</td>\n",
       "      <td>-0.249379</td>\n",
       "      <td>-1.384095</td>\n",
       "      <td>0.725746</td>\n",
       "      <td>-0.146877</td>\n",
       "      <td>0.833905</td>\n",
       "      <td>NaN</td>\n",
       "      <td>...</td>\n",
       "      <td>-0.058918</td>\n",
       "      <td>-0.032393</td>\n",
       "      <td>0.165559</td>\n",
       "      <td>-0.398682</td>\n",
       "      <td>0.733307</td>\n",
       "      <td>0.867906</td>\n",
       "      <td>1.203947</td>\n",
       "      <td>0.0</td>\n",
       "      <td>0.445426</td>\n",
       "      <td>-0.939962</td>\n",
       "    </tr>\n",
       "  </tbody>\n",
       "</table>\n",
       "<p>5 rows × 38 columns</p>\n",
       "</div>"
      ],
      "text/plain": [
       "   AVERAGE.ACCT.AGE  Aadhar_flag  CREDIT.HISTORY.LENGTH  Current_pincode_ID  \\\n",
       "0          1.970436     0.420328               3.134839           -0.876303   \n",
       "1          2.070387     0.420328               0.797054            1.349553   \n",
       "2         -0.528339     0.420328              -0.537577            0.626495   \n",
       "3         -0.528339     0.420328              -0.537577           -0.115754   \n",
       "4          0.504488     0.420328               0.517916            0.202034   \n",
       "\n",
       "   DELINQUENT.ACCTS.IN.LAST.SIX.MONTHS  Date.of.Birth  DisbursalDate  \\\n",
       "0                            -0.249379       1.658623      -1.310129   \n",
       "1                            -0.249379       0.644384       0.852989   \n",
       "2                            -0.249379      -1.079823      -0.419434   \n",
       "3                            -0.249379      -0.471279       1.489200   \n",
       "4                            -0.249379      -1.384095       0.725746   \n",
       "\n",
       "   Driving_flag  Employee_code_ID  Employment.Type  ...  SEC.OVERDUE.ACCTS  \\\n",
       "0     -0.146877         -0.201816        -0.885645  ...          -0.058918   \n",
       "1     -0.146877         -0.195959        -0.885645  ...          -0.058918   \n",
       "2     -0.146877         -0.771901         1.129121  ...          -0.058918   \n",
       "3     -0.146877          0.077370              NaN  ...          -0.058918   \n",
       "4     -0.146877          0.833905              NaN  ...          -0.058918   \n",
       "\n",
       "   SEC.SANCTIONED.AMOUNT  State_ID  VoterID_flag  asset_cost  branch_id  \\\n",
       "0              -0.032393 -0.274244     -0.398682   -0.164785  -0.197040   \n",
       "1              -0.032393 -0.494146     -0.398682   -0.903633  -0.381630   \n",
       "2              -0.032393  0.165559     -0.398682    0.214219  -0.878605   \n",
       "3              -0.032393  1.484969     -0.398682    0.605977  -0.836007   \n",
       "4              -0.032393  0.165559     -0.398682    0.733307   0.867906   \n",
       "\n",
       "   disbursed_amount  loan_default       ltv  manufacturer_id  \n",
       "0          0.123151           0.0  0.380028         0.776226  \n",
       "1         -1.492984           1.0 -1.262895        -1.075450  \n",
       "2          0.179567           0.0 -0.184699         2.311763  \n",
       "3          0.977517           1.0  0.334956         0.776226  \n",
       "4          1.203947           0.0  0.445426        -0.939962  \n",
       "\n",
       "[5 rows x 38 columns]"
      ]
     },
     "execution_count": 128,
     "metadata": {
      "tags": []
     },
     "output_type": "execute_result"
    }
   ],
   "source": [
    "loanstatus_0 = dftrain[dftrain[\"loan_default\"]==0]\n",
    "loanstatus_1 = dftrain[dftrain[\"loan_default\"]==1]\n",
    "subset_of_loanstatus_0 = loanstatus_0.sample(n=182543)\n",
    "subset_of_loanstatus_1 = loanstatus_1.sample(n=50611)\n",
    "dftrain = pd.concat([subset_of_loanstatus_1, subset_of_loanstatus_0])\n",
    "dftrain = dftrain.sample(frac=1).reset_index(drop=True)\n",
    "print(\"Current shape of dataset :\",dftrain.shape)\n",
    "dftrain.head()"
   ]
  },
  {
   "cell_type": "code",
   "execution_count": 0,
   "metadata": {
    "colab": {},
    "colab_type": "code",
    "id": "K9ONzH4JgCDj"
   },
   "outputs": [],
   "source": [
    "X ,y = dftrain.drop('loan_default',axis=1), dftrain['loan_default']\n",
    "X_train, X_test, y_train, y_test = train_test_split(X, y, test_size=0.13, random_state=42)"
   ]
  },
  {
   "cell_type": "markdown",
   "metadata": {
    "colab_type": "text",
    "id": "EcCjxM_OmSIO"
   },
   "source": [
    "## Plotting Modules"
   ]
  },
  {
   "cell_type": "code",
   "execution_count": 0,
   "metadata": {
    "colab": {},
    "colab_type": "code",
    "id": "Lz6JIfohiHcK"
   },
   "outputs": [],
   "source": [
    "sns.set('talk', 'whitegrid', 'dark', font_scale=1, font='Ricty',rc={\"lines.linewidth\": 2, 'grid.linestyle': '--'})\n",
    "def plotAUC(truth, pred, lab):\n",
    "    fpr, tpr, _ = metrics.roc_curve(truth,pred)\n",
    "    roc_auc = metrics.auc(fpr, tpr)\n",
    "    lw = 2\n",
    "    c = (np.random.rand(), np.random.rand(), np.random.rand())\n",
    "    plt.plot(fpr, tpr, color= c,lw=lw, label= lab +'(AUC = %0.2f)' % roc_auc)\n",
    "    plt.plot([0, 1], [0, 1], color='navy', lw=lw, linestyle='--')\n",
    "    plt.xlim([0.0, 1.0])\n",
    "    plt.ylim([0.0, 1.0])\n",
    "    plt.xlabel('False Positive Rate')\n",
    "    plt.ylabel('True Positive Rate')\n",
    "    plt.title('ROC curve')\n",
    "    plt.legend(loc=\"lower right\")"
   ]
  },
  {
   "cell_type": "code",
   "execution_count": 0,
   "metadata": {
    "colab": {},
    "colab_type": "code",
    "id": "HR89EYULiKUK"
   },
   "outputs": [],
   "source": [
    "def plot_confusion_matrix(model, normalize=False):\n",
    "    cm = confusion_matrix(y_test, model, labels=[0, 1])\n",
    "    classes=[\"Will Pay\", \"Will Default\"]\n",
    "    cmap = plt.cm.Blues\n",
    "    title = \"Confusion Matrix\"\n",
    "    if normalize:\n",
    "        cm = cm.astype('float') / cm.sum(axis=1)[:, np.newaxis]\n",
    "        cm = np.around(cm, decimals=3)\n",
    "    plt.imshow(cm, interpolation='nearest', cmap=cmap)\n",
    "    plt.title(title)\n",
    "    plt.colorbar()\n",
    "    tick_marks = np.arange(len(classes))\n",
    "    plt.xticks(tick_marks, classes, rotation=45)\n",
    "    plt.yticks(tick_marks, classes)\n",
    "    thresh = cm.max() / 2.\n",
    "    for i, j in itertools.product(range(cm.shape[0]), range(cm.shape[1])):\n",
    "        plt.text(j, i, cm[i, j],\n",
    "                 horizontalalignment=\"center\",\n",
    "                 color=\"white\" if cm[i, j] > thresh else \"black\")\n",
    "    plt.tight_layout()\n",
    "    plt.ylabel('True label')\n",
    "    plt.xlabel('Predicted label')"
   ]
  },
  {
   "cell_type": "markdown",
   "metadata": {
    "colab_type": "text",
    "id": "ZF2zFNVOmYPo"
   },
   "source": [
    "## Model"
   ]
  },
  {
   "cell_type": "code",
   "execution_count": 0,
   "metadata": {
    "colab": {},
    "colab_type": "code",
    "id": "Bm8vCwKRiUY_"
   },
   "outputs": [],
   "source": [
    "def cross_val(X_train, y_train, model):\n",
    "  \n",
    "  accuracies = cross_val_score(estimator = model, X = X_train, y = y_train, cv = 5)\n",
    "  return accuracies.mean()\n",
    "\n",
    "def fit_and_evaluate(model):\n",
    "    \n",
    "  model.fit(X_train, y_train)\n",
    "\n",
    "  model_pred = model.predict(X_test)\n",
    "  predictproba = model.predict_proba(X_test)[:,1]\n",
    "  model_cross = cross_val(X_train, y_train, model)\n",
    "  print(\"Train Accuracy: \",accuracy_score(y_train, model.predict(X_train)))\n",
    "  print(\"Test Accuracy: \",accuracy_score(y_test, model_pred))\n",
    "  print(\"Confusion Matrix: \")\n",
    "  conf = confusion_matrix(y_test, model_pred)\n",
    "  plotAUC(y_test,predictproba, \"model\")\n",
    "  plt.show()\n",
    "  plt.figure(figsize=(6,6))\n",
    "  plot_confusion_matrix(model_pred, normalize=True)\n",
    "  plt.show()\n",
    "  return model_cross"
   ]
  },
  {
   "cell_type": "code",
   "execution_count": 133,
   "metadata": {
    "colab": {
     "base_uri": "https://localhost:8080/",
     "height": 799
    },
    "colab_type": "code",
    "id": "Nemii-fjiiMg",
    "outputId": "d976c872-181b-43f9-b2a1-9d6a57b5953d"
   },
   "outputs": [
    {
     "name": "stdout",
     "output_type": "stream",
     "text": [
      "Train Accuracy:  0.7885803306005137\n",
      "Test Accuracy:  0.784830589554947\n",
      "Confusion Matrix: \n"
     ]
    },
    {
     "data": {
      "image/png": "[encoded data removed]",
      "text/plain": [
       "<Figure size 432x288 with 1 Axes>"
      ]
     },
     "metadata": {
      "tags": []
     },
     "output_type": "display_data"
    },
    {
     "data": {
      "image/png": "[encoded data removed]",
      "text/plain": [
       "<Figure size 432x432 with 2 Axes>"
      ]
     },
     "metadata": {
      "tags": []
     },
     "output_type": "display_data"
    },
    {
     "name": "stdout",
     "output_type": "stream",
     "text": [
      "Gradient Boosting Classification Performance on the test set: Cross Validation Score = 0.7830\n"
     ]
    }
   ],
   "source": [
    "gb = XGBClassifier(eval_metric='auc',learning_rate = 0.1,\n",
    " n_estimators=200,\n",
    " max_depth=6,\n",
    " min_child_weight=1,\n",
    " gamma=0,\n",
    " subsample=0.8,\n",
    " colsample_bytree=0.8,\n",
    " objective= 'binary:logistic',\n",
    " nthread=4,\n",
    " scale_pos_weight=1,\n",
    " seed=47,verbosity=1)\n",
    "gb_cross = fit_and_evaluate(gb)\n",
    "\n",
    "print('Gradient Boosting Classification Performance on the test set: Cross Validation Score = %0.4f' % gb_cross)"
   ]
  },
  {
   "cell_type": "markdown",
   "metadata": {
    "colab_type": "text",
    "id": "SFVr1qV_mbZy"
   },
   "source": [
    "## Evaluate Model"
   ]
  },
  {
   "cell_type": "code",
   "execution_count": 134,
   "metadata": {
    "colab": {
     "base_uri": "https://localhost:8080/",
     "height": 204
    },
    "colab_type": "code",
    "id": "IRvel6SmizEZ",
    "outputId": "051cdddd-7e19-4a40-9e5b-864858892173"
   },
   "outputs": [
    {
     "name": "stdout",
     "output_type": "stream",
     "text": [
      "Train Accuracy:  0.7885803306005137\n",
      "Test Accuracy:  0.784830589554947\n",
      "Confusion Matrix: \n",
      "[[23633   151]\n",
      " [ 6371   156]]\n",
      "[[99.36511941  2.31346714]\n",
      " [26.78691557  2.39007201]]\n",
      "[[78.76616451 49.18566775]\n",
      " [21.23383549 50.81433225]]\n",
      "[[77.96839431  0.49816898]\n",
      " [21.01877206  0.51466464]]\n"
     ]
    }
   ],
   "source": [
    "trained_model = gb\n",
    "predictions = trained_model.predict(X_test) \n",
    "print(\"Train Accuracy: \",accuracy_score(y_train, trained_model.predict(X_train)))\n",
    "print(\"Test Accuracy: \",accuracy_score(y_test, predictions))\n",
    "print(\"Confusion Matrix: \")\n",
    "conf = confusion_matrix(y_test, predictions)\n",
    "print(conf)\n",
    "conf1 = (conf / conf.astype(np.float).sum(axis=1))*100\n",
    "x = conf.sum().sum()\n",
    "print(conf1)\n",
    "conf2 = (conf / conf.astype(np.float).sum(axis=0))*100\n",
    "print(conf2)\n",
    "conf3 = conf.astype('float') / conf.sum(axis=1)[:, np.newaxis]\n",
    "print((conf/x)*100)"
   ]
  },
  {
   "cell_type": "markdown",
   "metadata": {
    "colab_type": "text",
    "id": "Y8Hy4VCMmezB"
   },
   "source": [
    "## Applying model\n",
    "\n"
   ]
  },
  {
   "cell_type": "code",
   "execution_count": 135,
   "metadata": {
    "colab": {
     "base_uri": "https://localhost:8080/",
     "height": 253
    },
    "colab_type": "code",
    "id": "E-bU4T0wr_NW",
    "outputId": "03bfd583-e32d-4079-f571-ab4d63e16add"
   },
   "outputs": [
    {
     "data": {
      "text/html": [
       "<div>\n",
       "<style scoped>\n",
       "    .dataframe tbody tr th:only-of-type {\n",
       "        vertical-align: middle;\n",
       "    }\n",
       "\n",
       "    .dataframe tbody tr th {\n",
       "        vertical-align: top;\n",
       "    }\n",
       "\n",
       "    .dataframe thead th {\n",
       "        text-align: right;\n",
       "    }\n",
       "</style>\n",
       "<table border=\"1\" class=\"dataframe\">\n",
       "  <thead>\n",
       "    <tr style=\"text-align: right;\">\n",
       "      <th></th>\n",
       "      <th>AVERAGE.ACCT.AGE</th>\n",
       "      <th>Aadhar_flag</th>\n",
       "      <th>CREDIT.HISTORY.LENGTH</th>\n",
       "      <th>Current_pincode_ID</th>\n",
       "      <th>DELINQUENT.ACCTS.IN.LAST.SIX.MONTHS</th>\n",
       "      <th>Date.of.Birth</th>\n",
       "      <th>DisbursalDate</th>\n",
       "      <th>Driving_flag</th>\n",
       "      <th>Employee_code_ID</th>\n",
       "      <th>Employment.Type</th>\n",
       "      <th>...</th>\n",
       "      <th>SEC.OVERDUE.ACCTS</th>\n",
       "      <th>SEC.SANCTIONED.AMOUNT</th>\n",
       "      <th>State_ID</th>\n",
       "      <th>VoterID_flag</th>\n",
       "      <th>asset_cost</th>\n",
       "      <th>branch_id</th>\n",
       "      <th>disbursed_amount</th>\n",
       "      <th>loan_default</th>\n",
       "      <th>ltv</th>\n",
       "      <th>manufacturer_id</th>\n",
       "    </tr>\n",
       "  </thead>\n",
       "  <tbody>\n",
       "    <tr>\n",
       "      <th>233154</th>\n",
       "      <td>-0.528339</td>\n",
       "      <td>0.420328</td>\n",
       "      <td>-0.537577</td>\n",
       "      <td>-0.792393</td>\n",
       "      <td>-0.249379</td>\n",
       "      <td>1.050080</td>\n",
       "      <td>-2.073582</td>\n",
       "      <td>-0.146877</td>\n",
       "      <td>0.367294</td>\n",
       "      <td>1.129121</td>\n",
       "      <td>...</td>\n",
       "      <td>-0.058918</td>\n",
       "      <td>-0.032393</td>\n",
       "      <td>-0.274244</td>\n",
       "      <td>-0.398682</td>\n",
       "      <td>-0.679711</td>\n",
       "      <td>-0.111844</td>\n",
       "      <td>-0.110255</td>\n",
       "      <td>NaN</td>\n",
       "      <td>1.026061</td>\n",
       "      <td>-1.075450</td>\n",
       "    </tr>\n",
       "    <tr>\n",
       "      <th>233155</th>\n",
       "      <td>-0.128535</td>\n",
       "      <td>0.420328</td>\n",
       "      <td>-0.101423</td>\n",
       "      <td>-0.792393</td>\n",
       "      <td>-0.249379</td>\n",
       "      <td>-0.167008</td>\n",
       "      <td>0.089535</td>\n",
       "      <td>-0.146877</td>\n",
       "      <td>0.367294</td>\n",
       "      <td>-0.885645</td>\n",
       "      <td>...</td>\n",
       "      <td>-0.058918</td>\n",
       "      <td>-0.032393</td>\n",
       "      <td>-0.274244</td>\n",
       "      <td>-0.398682</td>\n",
       "      <td>-0.700790</td>\n",
       "      <td>-0.111844</td>\n",
       "      <td>0.045732</td>\n",
       "      <td>NaN</td>\n",
       "      <td>1.283237</td>\n",
       "      <td>-1.075450</td>\n",
       "    </tr>\n",
       "    <tr>\n",
       "      <th>233156</th>\n",
       "      <td>-0.528339</td>\n",
       "      <td>0.420328</td>\n",
       "      <td>-0.537577</td>\n",
       "      <td>-0.536198</td>\n",
       "      <td>-0.249379</td>\n",
       "      <td>-1.181247</td>\n",
       "      <td>1.234715</td>\n",
       "      <td>-0.146877</td>\n",
       "      <td>0.023681</td>\n",
       "      <td>1.129121</td>\n",
       "      <td>...</td>\n",
       "      <td>-0.058918</td>\n",
       "      <td>-0.032393</td>\n",
       "      <td>-0.714047</td>\n",
       "      <td>-0.398682</td>\n",
       "      <td>0.428269</td>\n",
       "      <td>0.044348</td>\n",
       "      <td>0.794548</td>\n",
       "      <td>NaN</td>\n",
       "      <td>0.441891</td>\n",
       "      <td>0.776226</td>\n",
       "    </tr>\n",
       "    <tr>\n",
       "      <th>233157</th>\n",
       "      <td>1.387388</td>\n",
       "      <td>0.420328</td>\n",
       "      <td>0.465577</td>\n",
       "      <td>-0.536645</td>\n",
       "      <td>-0.249379</td>\n",
       "      <td>1.050080</td>\n",
       "      <td>1.234715</td>\n",
       "      <td>-0.146877</td>\n",
       "      <td>0.023681</td>\n",
       "      <td>-0.885645</td>\n",
       "      <td>...</td>\n",
       "      <td>-0.058918</td>\n",
       "      <td>-0.032393</td>\n",
       "      <td>-0.714047</td>\n",
       "      <td>-0.398682</td>\n",
       "      <td>-0.661673</td>\n",
       "      <td>0.044348</td>\n",
       "      <td>-0.614090</td>\n",
       "      <td>NaN</td>\n",
       "      <td>0.145829</td>\n",
       "      <td>-1.075450</td>\n",
       "    </tr>\n",
       "    <tr>\n",
       "      <th>233158</th>\n",
       "      <td>-0.528339</td>\n",
       "      <td>0.420328</td>\n",
       "      <td>-0.537577</td>\n",
       "      <td>-0.537091</td>\n",
       "      <td>-0.249379</td>\n",
       "      <td>1.151504</td>\n",
       "      <td>-0.292191</td>\n",
       "      <td>-0.146877</td>\n",
       "      <td>0.023681</td>\n",
       "      <td>1.129121</td>\n",
       "      <td>...</td>\n",
       "      <td>-0.058918</td>\n",
       "      <td>-0.032393</td>\n",
       "      <td>-0.714047</td>\n",
       "      <td>-0.398682</td>\n",
       "      <td>-0.661673</td>\n",
       "      <td>0.044348</td>\n",
       "      <td>-0.267392</td>\n",
       "      <td>NaN</td>\n",
       "      <td>0.985408</td>\n",
       "      <td>-1.075450</td>\n",
       "    </tr>\n",
       "  </tbody>\n",
       "</table>\n",
       "<p>5 rows × 38 columns</p>\n",
       "</div>"
      ],
      "text/plain": [
       "        AVERAGE.ACCT.AGE  Aadhar_flag  CREDIT.HISTORY.LENGTH  \\\n",
       "233154         -0.528339     0.420328              -0.537577   \n",
       "233155         -0.128535     0.420328              -0.101423   \n",
       "233156         -0.528339     0.420328              -0.537577   \n",
       "233157          1.387388     0.420328               0.465577   \n",
       "233158         -0.528339     0.420328              -0.537577   \n",
       "\n",
       "        Current_pincode_ID  DELINQUENT.ACCTS.IN.LAST.SIX.MONTHS  \\\n",
       "233154           -0.792393                            -0.249379   \n",
       "233155           -0.792393                            -0.249379   \n",
       "233156           -0.536198                            -0.249379   \n",
       "233157           -0.536645                            -0.249379   \n",
       "233158           -0.537091                            -0.249379   \n",
       "\n",
       "        Date.of.Birth  DisbursalDate  Driving_flag  Employee_code_ID  \\\n",
       "233154       1.050080      -2.073582     -0.146877          0.367294   \n",
       "233155      -0.167008       0.089535     -0.146877          0.367294   \n",
       "233156      -1.181247       1.234715     -0.146877          0.023681   \n",
       "233157       1.050080       1.234715     -0.146877          0.023681   \n",
       "233158       1.151504      -0.292191     -0.146877          0.023681   \n",
       "\n",
       "        Employment.Type  ...  SEC.OVERDUE.ACCTS  SEC.SANCTIONED.AMOUNT  \\\n",
       "233154         1.129121  ...          -0.058918              -0.032393   \n",
       "233155        -0.885645  ...          -0.058918              -0.032393   \n",
       "233156         1.129121  ...          -0.058918              -0.032393   \n",
       "233157        -0.885645  ...          -0.058918              -0.032393   \n",
       "233158         1.129121  ...          -0.058918              -0.032393   \n",
       "\n",
       "        State_ID  VoterID_flag  asset_cost  branch_id  disbursed_amount  \\\n",
       "233154 -0.274244     -0.398682   -0.679711  -0.111844         -0.110255   \n",
       "233155 -0.274244     -0.398682   -0.700790  -0.111844          0.045732   \n",
       "233156 -0.714047     -0.398682    0.428269   0.044348          0.794548   \n",
       "233157 -0.714047     -0.398682   -0.661673   0.044348         -0.614090   \n",
       "233158 -0.714047     -0.398682   -0.661673   0.044348         -0.267392   \n",
       "\n",
       "        loan_default       ltv  manufacturer_id  \n",
       "233154           NaN  1.026061        -1.075450  \n",
       "233155           NaN  1.283237        -1.075450  \n",
       "233156           NaN  0.441891         0.776226  \n",
       "233157           NaN  0.145829        -1.075450  \n",
       "233158           NaN  0.985408        -1.075450  \n",
       "\n",
       "[5 rows x 38 columns]"
      ]
     },
     "execution_count": 135,
     "metadata": {
      "tags": []
     },
     "output_type": "execute_result"
    }
   ],
   "source": [
    "dftest.head()"
   ]
  },
  {
   "cell_type": "code",
   "execution_count": 0,
   "metadata": {
    "colab": {},
    "colab_type": "code",
    "id": "OUIfDMlPjDG0"
   },
   "outputs": [],
   "source": [
    "dftest.drop('loan_default', axis=1, inplace=True)\n",
    "test_y = gb.predict_proba(dftest)[:,1]"
   ]
  },
  {
   "cell_type": "code",
   "execution_count": 137,
   "metadata": {
    "colab": {
     "base_uri": "https://localhost:8080/",
     "height": 34
    },
    "colab_type": "code",
    "id": "FUrS288prhMH",
    "outputId": "587472f3-3985-440d-c75c-b9499c6605c2"
   },
   "outputs": [
    {
     "data": {
      "text/plain": [
       "112392"
      ]
     },
     "execution_count": 137,
     "metadata": {
      "tags": []
     },
     "output_type": "execute_result"
    }
   ],
   "source": [
    "test_y.size"
   ]
  },
  {
   "cell_type": "markdown",
   "metadata": {
    "colab_type": "text",
    "id": "pac5BI2SmozL"
   },
   "source": [
    "## Submission"
   ]
  },
  {
   "cell_type": "code",
   "execution_count": 138,
   "metadata": {
    "colab": {
     "base_uri": "https://localhost:8080/",
     "height": 204
    },
    "colab_type": "code",
    "id": "qLhYv5-rjR5B",
    "outputId": "549c2f6b-6166-4aa4-a7e5-f4457cc1576a"
   },
   "outputs": [
    {
     "data": {
      "text/plain": [
       "0.299699    4\n",
       "0.353311    4\n",
       "0.480599    3\n",
       "0.110122    3\n",
       "0.265650    3\n",
       "0.214675    3\n",
       "0.257577    3\n",
       "0.317573    2\n",
       "0.094279    2\n",
       "0.364588    2\n",
       "Name: loan_default, dtype: int64"
      ]
     },
     "execution_count": 138,
     "metadata": {
      "tags": []
     },
     "output_type": "execute_result"
    }
   ],
   "source": [
    "submission = pd.DataFrame()\n",
    "submission['UniqueID'] = test['UniqueID']\n",
    "submission['loan_default'] = test_y\n",
    "\n",
    "submission.loan_default.value_counts().head(10)"
   ]
  },
  {
   "cell_type": "code",
   "execution_count": 139,
   "metadata": {
    "colab": {
     "base_uri": "https://localhost:8080/",
     "height": 34
    },
    "colab_type": "code",
    "id": "WtEmo85gjdRQ",
    "outputId": "9007c1bb-a003-4f6a-e724-37d6ff34994e"
   },
   "outputs": [
    {
     "name": "stdout",
     "output_type": "stream",
     "text": [
      "(112392, 2)\n"
     ]
    }
   ],
   "source": [
    "print(submission.shape)\n",
    "submission.to_csv('submission.csv', index=False)"
   ]
  }
 ],
 "metadata": {
  "colab": {
   "name": "Untitled1.ipynb",
   "provenance": [],
   "version": "0.3.2"
  },
  "kernelspec": {
   "display_name": "Python 3",
   "language": "python",
   "name": "python3"
  },
  "language_info": {
   "codemirror_mode": {
    "name": "ipython",
    "version": 3
   },
   "file_extension": ".py",
   "mimetype": "text/x-python",
   "name": "python",
   "nbconvert_exporter": "python",
   "pygments_lexer": "ipython3",
   "version": "3.7.3"
  }
 },
 "nbformat": 4,
 "nbformat_minor": 1
}
